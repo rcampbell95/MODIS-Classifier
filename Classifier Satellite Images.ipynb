{
 "cells": [
  {
   "cell_type": "markdown",
   "metadata": {},
   "source": [
    "# 0. Import Required Libraries"
   ]
  },
  {
   "cell_type": "code",
   "execution_count": 1,
   "metadata": {},
   "outputs": [],
   "source": [
    "%matplotlib inline\n",
    "\n",
    "import mlflow\n",
    "import numpy as np\n",
    "import torch\n",
    "from torch import nn\n",
    "import torch.nn.functional as F\n",
    "from torch.utils.data import DataLoader\n",
    "\n",
    "from sklearn.metrics import accuracy_score\n",
    "\n",
    "import matplotlib.pyplot as plt\n",
    "\n",
    "import math\n",
    "from lib.utils import *"
   ]
  },
  {
   "cell_type": "markdown",
   "metadata": {},
   "source": [
    "# 1. Define Classifier Architecture"
   ]
  },
  {
   "cell_type": "code",
   "execution_count": 2,
   "metadata": {},
   "outputs": [],
   "source": [
    "class Classifier(nn.Module):\n",
    "    def __init__(self, channel, in_len):\n",
    "        super(Classifier, self).__init__()\n",
    "        \n",
    "        self.fc1_size = channel * in_len ** 2\n",
    "        self.fc2_size = self.fc1_size * 2\n",
    "        self.fc3_size = self.fc2_size\n",
    "        self.fc4_size = self.fc1_size\n",
    "        \n",
    "        self.fc1 = nn.Linear(self.fc1_size, self.fc2_size)\n",
    "        self.fc2 = nn.Linear(self.fc2_size, self.fc3_size)\n",
    "        self.fc3 = nn.Linear(self.fc3_size, self.fc4_size)\n",
    "        self.fc4 = nn.Linear(self.fc4_size, 2)\n",
    "        \n",
    "        self.dropout = nn.Dropout(p=0.3)\n",
    "    def forward(self, x):\n",
    "        # Flatten input\n",
    "        x = x.view(x.shape[0], -1)\n",
    "        \n",
    "        x = self.dropout(F.relu(self.fc1(x)))\n",
    "        \n",
    "        x = self.dropout(F.relu(self.fc2(x)))\n",
    "        \n",
    "        x = self.dropout(F.relu(self.fc3(x)))\n",
    "        \n",
    "        x = F.log_softmax(self.fc4(x), dim=1)\n",
    "        return x\n",
    "    \n",
    "    def train_network(self, trainloader, val_loader, epochs=20):\n",
    "        pass\n",
    "                    \n",
    "    def test(self):\n",
    "        pass"
   ]
  },
  {
   "cell_type": "markdown",
   "metadata": {},
   "source": [
    "# 2. Start MlFlow Run"
   ]
  },
  {
   "cell_type": "code",
   "execution_count": 3,
   "metadata": {},
   "outputs": [],
   "source": [
    "mlflow.set_tracking_uri(\"file:.\\mlruns\")\n",
    "mlflow.start_run()\n",
    "\n",
    "params = {}\n",
    "artifacts = []\n",
    "metrics = {}"
   ]
  },
  {
   "cell_type": "markdown",
   "metadata": {},
   "source": [
    "# 3. Load Data"
   ]
  },
  {
   "cell_type": "code",
   "execution_count": 4,
   "metadata": {},
   "outputs": [],
   "source": [
    "data, filenames = load_data(10, \"./data/modis\")"
   ]
  },
  {
   "cell_type": "code",
   "execution_count": 5,
   "metadata": {},
   "outputs": [],
   "source": [
    "labels = [data[i][0] for i in range(len(data))]\n",
    "train_data = [data[i][1:] for i in range(len(data))]"
   ]
  },
  {
   "cell_type": "code",
   "execution_count": 6,
   "metadata": {},
   "outputs": [],
   "source": [
    "class LandsatDataLoader():\n",
    "    def __init__(self, data, ground_truth, batch_size, shuffle=True):\n",
    "        self.data = data\n",
    "        self.labels = ground_truth\n",
    "        self.batch_size = batch_size\n",
    "        self.shuffle = shuffle\n",
    "    def __len__(self):\n",
    "        return self.len\n",
    "    def __iter__(self):\n",
    "        self.len = 0\n",
    "        if self.shuffle:\n",
    "            import random\n",
    "            random.shuffle(self.data)\n",
    "        \n",
    "        for i, image in enumerate(self.data):\n",
    "            chunked_data = chunk_image(merge_dims(image))\n",
    "            chunked_labels = chunk_image(self.labels[i], label=True)\n",
    "                        \n",
    "            dataset = list(zip(chunked_data, chunked_labels))\n",
    "            dataloader = DataLoader(dataset, batch_size=self.batch_size, shuffle=self.shuffle)\n",
    "            self.len += len(dataloader)\n",
    "            \n",
    "            for batch, ground_truth in dataloader:\n",
    "                yield batch, ground_truth "
   ]
  },
  {
   "cell_type": "markdown",
   "metadata": {},
   "source": [
    "# 4. Chunk Images\n",
    "Each image is broken up into bx9x3x3 tensors, where b is the batch size. "
   ]
  },
  {
   "cell_type": "code",
   "execution_count": 83,
   "metadata": {},
   "outputs": [
    {
     "name": "stdout",
     "output_type": "stream",
     "text": [
      "filename                       shape: (batch, band, height, width)\n",
      "arkansas_city.tif              shape: (556850, 9, 3, 3)\n",
      "assiniboine.tif                shape: (2182830, 9, 3, 3)\n",
      "bay_area.tif                   shape: (3165612, 9, 3, 3)\n",
      "berkeley.tif                   shape: (431616, 9, 3, 3)\n",
      "kashmore.tif                   shape: (3304125, 9, 3, 3)\n",
      "kashmore_north.tif             shape: (328040, 9, 3, 3)\n",
      "katrina.tif                    shape: (1263893, 9, 3, 3)\n",
      "katrina_slidell.tif            shape: (249676, 9, 3, 3)\n",
      "malawi.tif                     shape: (423504, 9, 3, 3)\n",
      "mississippi_june.tif           shape: (824680, 9, 3, 3)\n",
      "mississippi_may.tif            shape: (824680, 9, 3, 3)\n",
      "parana.tif                     shape: (686907, 9, 3, 3)\n",
      "sava.tif                       shape: (753087, 9, 3, 3)\n",
      "sava_west.tif                  shape: (410116, 9, 3, 3)\n",
      "unflooded_mississippi.tif      shape: (1662630, 9, 3, 3)\n",
      "unflooded_new_orleans.tif      shape: (1403010, 9, 3, 3)\n",
      "\n",
      "Total 3 x 3 chunks: 18471256\n",
      "Wall time: 48 s\n"
     ]
    }
   ],
   "source": [
    "%%time\n",
    "\n",
    "print(\"{:30} shape: (batch, band, height, width)\".format(\"filename\"))\n",
    "\n",
    "chunk_sum = 0\n",
    "\n",
    "for i, image in enumerate(train_data):\n",
    "    chunked_image = chunk_image(merge_dims(image))\n",
    "    \n",
    "    chunk_sum += chunked_image.shape[0]\n",
    "        \n",
    "    print(\"{:30} shape: {}\".format(filenames[i], chunked_image.shape))\n",
    "    \n",
    "print(\"\\nTotal {} x {} chunks: {}\".format(chunked_image.shape[-1], chunked_image.shape[-1], chunk_sum))"
   ]
  },
  {
   "cell_type": "code",
   "execution_count": 8,
   "metadata": {},
   "outputs": [],
   "source": [
    "batch_size = 2048\n",
    "params[\"batch_size\"] = batch_size"
   ]
  },
  {
   "cell_type": "code",
   "execution_count": 9,
   "metadata": {},
   "outputs": [],
   "source": [
    "trainloader = LandsatDataLoader(train_data[:12], labels[:12], batch_size=batch_size)\n",
    "val_loader = LandsatDataLoader(train_data[12:15], labels[12:15], batch_size=batch_size)"
   ]
  },
  {
   "cell_type": "markdown",
   "metadata": {},
   "source": [
    "# 5. Instantiate Model and Optimizer"
   ]
  },
  {
   "cell_type": "code",
   "execution_count": 10,
   "metadata": {},
   "outputs": [],
   "source": [
    "model = Classifier(9, 3)"
   ]
  },
  {
   "cell_type": "code",
   "execution_count": 11,
   "metadata": {},
   "outputs": [],
   "source": [
    "#model = parallelize(model)"
   ]
  },
  {
   "cell_type": "code",
   "execution_count": 12,
   "metadata": {},
   "outputs": [],
   "source": [
    "import torch.optim as optim\n",
    "\n",
    "optimizer = optim.Adam(model.parameters(), lr=0.001)\n",
    "criterion = nn.NLLLoss()"
   ]
  },
  {
   "cell_type": "markdown",
   "metadata": {},
   "source": [
    "# 6. Use GPU, if available"
   ]
  },
  {
   "cell_type": "code",
   "execution_count": 13,
   "metadata": {},
   "outputs": [
    {
     "data": {
      "text/plain": [
       "Classifier(\n",
       "  (fc1): Linear(in_features=81, out_features=162, bias=True)\n",
       "  (fc2): Linear(in_features=162, out_features=162, bias=True)\n",
       "  (fc3): Linear(in_features=162, out_features=81, bias=True)\n",
       "  (fc4): Linear(in_features=81, out_features=2, bias=True)\n",
       "  (dropout): Dropout(p=0.3)\n",
       ")"
      ]
     },
     "execution_count": 13,
     "metadata": {},
     "output_type": "execute_result"
    }
   ],
   "source": [
    "if torch.cuda.is_available():\n",
    "    device = \"cuda\"\n",
    "else:\n",
    "    device = \"cpu\"\n",
    "    \n",
    "model.to(device)"
   ]
  },
  {
   "cell_type": "markdown",
   "metadata": {},
   "source": [
    "# 7. Train and Validate Model"
   ]
  },
  {
   "cell_type": "code",
   "execution_count": 14,
   "metadata": {
    "scrolled": true
   },
   "outputs": [
    {
     "name": "stdout",
     "output_type": "stream",
     "text": [
      "Epoch [    1/   30] | train loss: 0.238680 | validation loss: 0.154067 | validation accuracy: 97.6694%\n",
      "Epoch [    2/   30] | train loss: 0.179612 | validation loss: 0.178584 | validation accuracy: 97.4747%\n",
      "Epoch [    3/   30] | train loss: 0.174550 | validation loss: 0.146578 | validation accuracy: 97.6518%\n",
      "Epoch [    4/   30] | train loss: 0.170724 | validation loss: 0.169868 | validation accuracy: 97.4576%\n",
      "Epoch [    5/   30] | train loss: 0.168265 | validation loss: 0.143538 | validation accuracy: 97.5963%\n",
      "Epoch [    6/   30] | train loss: 0.166092 | validation loss: 0.137881 | validation accuracy: 97.5885%\n",
      "Epoch [    7/   30] | train loss: 0.163846 | validation loss: 0.119091 | validation accuracy: 97.5685%\n",
      "Epoch [    8/   30] | train loss: 0.161922 | validation loss: 0.146896 | validation accuracy: 97.5629%\n",
      "Epoch [    9/   30] | train loss: 0.160449 | validation loss: 0.125387 | validation accuracy: 97.5187%\n",
      "Epoch [   10/   30] | train loss: 0.159286 | validation loss: 0.129012 | validation accuracy: 97.5529%\n",
      "Epoch [   11/   30] | train loss: 0.158427 | validation loss: 0.110615 | validation accuracy: 97.4179%\n",
      "Epoch [   12/   30] | train loss: 0.157461 | validation loss: 0.112807 | validation accuracy: 97.4479%\n",
      "Epoch [   13/   30] | train loss: 0.156779 | validation loss: 0.102412 | validation accuracy: 97.5343%\n",
      "Epoch [   14/   30] | train loss: 0.155526 | validation loss: 0.117979 | validation accuracy: 97.5117%\n",
      "Epoch [   15/   30] | train loss: 0.155180 | validation loss: 0.121863 | validation accuracy: 97.4651%\n",
      "Epoch [   16/   30] | train loss: 0.154660 | validation loss: 0.094828 | validation accuracy: 97.5628%\n",
      "Epoch [   17/   30] | train loss: 0.153837 | validation loss: 0.120477 | validation accuracy: 97.3778%\n",
      "Epoch [   18/   30] | train loss: 0.153072 | validation loss: 0.125248 | validation accuracy: 97.3605%\n",
      "Epoch [   19/   30] | train loss: 0.152765 | validation loss: 0.097928 | validation accuracy: 97.5655%\n",
      "Epoch [   20/   30] | train loss: 0.152227 | validation loss: 0.119985 | validation accuracy: 97.2836%\n",
      "Epoch [   21/   30] | train loss: 0.152627 | validation loss: 0.103106 | validation accuracy: 97.4683%\n",
      "Epoch [   22/   30] | train loss: 0.151635 | validation loss: 0.103030 | validation accuracy: 97.5710%\n",
      "Epoch [   23/   30] | train loss: 0.151346 | validation loss: 0.118080 | validation accuracy: 97.3670%\n",
      "Epoch [   24/   30] | train loss: 0.151368 | validation loss: 0.101896 | validation accuracy: 97.4639%\n",
      "Epoch [   25/   30] | train loss: 0.150699 | validation loss: 0.094826 | validation accuracy: 97.6356%\n",
      "Epoch [   26/   30] | train loss: 0.149913 | validation loss: 0.103215 | validation accuracy: 97.4915%\n",
      "Epoch [   27/   30] | train loss: 0.149995 | validation loss: 0.107312 | validation accuracy: 97.1398%\n",
      "Epoch [   28/   30] | train loss: 0.149486 | validation loss: 0.110937 | validation accuracy: 97.3264%\n",
      "Epoch [   29/   30] | train loss: 0.149563 | validation loss: 0.100384 | validation accuracy: 97.5753%\n",
      "Epoch [   30/   30] | train loss: 0.149739 | validation loss: 0.108427 | validation accuracy: 97.2765%\n",
      "Wall time: 26min 45s\n"
     ]
    }
   ],
   "source": [
    "%%time\n",
    "\n",
    "epochs = 30\n",
    "params[\"epochs\"] = epochs\n",
    "\n",
    "train_losses = []\n",
    "val_losses = []\n",
    "val_accuracies = []\n",
    "\n",
    "min_val_loss = float(\"inf\")\n",
    "\n",
    "\n",
    "for epoch in range(epochs):\n",
    "    model.train()\n",
    "    train_loss = 0\n",
    "    \n",
    "    for batch, ground_truth in trainloader:\n",
    "        # ============================================\n",
    "        #            TRAINING\n",
    "        # ============================================\n",
    "        batch, ground_truth = batch.to(device), ground_truth.to(device)\n",
    "        output = model.forward(batch.float())\n",
    "        # Clear gradients in optimizer\n",
    "        optimizer.zero_grad()\n",
    "        # Calculate loss\n",
    "        loss = criterion(output.squeeze(), ground_truth.long())\n",
    "        train_loss += loss.item()\n",
    "        # Backpropagation\n",
    "        loss.backward()\n",
    "        # Update weights\n",
    "        optimizer.step()\n",
    "    else:\n",
    "        with torch.no_grad():\n",
    "            model.eval()\n",
    "            val_loss = 0\n",
    "            \n",
    "            y_pred = np.array([])\n",
    "            y_true = np.array([])\n",
    "            \n",
    "            for batch, ground_truth in val_loader:\n",
    "                # ============================================\n",
    "                #            VALIDATION\n",
    "                # ============================================\n",
    "                batch, ground_truth = batch.to(device), ground_truth.to(device)\n",
    "                # forward pass\n",
    "                log_probs = model.forward(batch.float())\n",
    "                probs = torch.exp(log_probs)\n",
    "                \n",
    "                top_p, top_class = probs.topk(1, dim=1)\n",
    "                y_pred = np.append(y_pred, cuda_to_numpy(top_class))\n",
    "                y_true = np.append(y_true, cuda_to_numpy(ground_truth))\n",
    "                \n",
    "                # calculate loss\n",
    "                loss = criterion(log_probs.squeeze(), ground_truth.long())\n",
    "                val_loss += loss.item()\n",
    "\n",
    "    # Print epoch summary\n",
    "    t_loss_avg = train_loss / len(trainloader)\n",
    "    v_loss_avg = val_loss / len(val_loader)\n",
    "    accuracy = accuracy_score(y_true, y_pred)\n",
    "    \n",
    "    if v_loss_avg < min_val_loss:\n",
    "        torch.save(model.state_dict(), \"./artifacts/model.pth\")\n",
    "        artifacts.append(\"model.pth\")\n",
    "        \n",
    "    mlflow.log_metric(\"train_loss\", t_loss_avg)\n",
    "    mlflow.log_metric(\"val_loss\", v_loss_avg)\n",
    "    mlflow.log_metric(\"validation_accuracy\", accuracy)\n",
    "    \n",
    "    train_losses.append(t_loss_avg)\n",
    "    val_losses.append(v_loss_avg)\n",
    "    val_accuracies.append(accuracy)\n",
    "    \n",
    "    print('Epoch [{:5d}/{:5d}] | train loss: {:8.6f} | validation loss: {:8.6f} | validation accuracy: {:6.4f}%'.format(\n",
    "                epoch+1, epochs, t_loss_avg, v_loss_avg, accuracy * 100))"
   ]
  },
  {
   "cell_type": "markdown",
   "metadata": {},
   "source": [
    "# 8. Plot Learning Curve"
   ]
  },
  {
   "cell_type": "code",
   "execution_count": 15,
   "metadata": {},
   "outputs": [
    {
     "data": {
      "image/png": "[encoded data removed]",
      "text/plain": [
       "<Figure size 432x288 with 1 Axes>"
      ]
     },
     "metadata": {
      "needs_background": "light"
     },
     "output_type": "display_data"
    }
   ],
   "source": [
    "plt.plot(train_losses, label=\"Training\")\n",
    "plt.plot(val_losses, label=\"Validation\")\n",
    "plt.xlabel(\"Epochs\")\n",
    "plt.ylabel(\"Loss\")\n",
    "plt.title(\"Learning Curve for MODIS Image Classifier\")\n",
    "plt.legend()\n",
    "\n",
    "figure_name = \"train_loss.png\"\n",
    "plt.savefig(\"./artifacts/\" + figure_name)\n",
    "artifacts.append(figure_name)"
   ]
  },
  {
   "cell_type": "code",
   "execution_count": 16,
   "metadata": {},
   "outputs": [
    {
     "data": {
      "image/png": "[encoded data removed]",
      "text/plain": [
       "<Figure size 432x288 with 1 Axes>"
      ]
     },
     "metadata": {
      "needs_background": "light"
     },
     "output_type": "display_data"
    }
   ],
   "source": [
    "plt.plot(val_accuracies)\n",
    "plt.xlabel(\"Epochs\")\n",
    "plt.ylabel(\"Accuracy(%)\")\n",
    "plt.title(\"Validation Accuracy for MODIS Image Classifier\")\n",
    "\n",
    "figure_name = \"val_accuracy.png\"\n",
    "plt.savefig(\"./artifacts/\" + figure_name)\n",
    "artifacts.append(figure_name)"
   ]
  },
  {
   "cell_type": "markdown",
   "metadata": {},
   "source": [
    "# 8. Test Model"
   ]
  },
  {
   "cell_type": "code",
   "execution_count": 42,
   "metadata": {},
   "outputs": [],
   "source": [
    "model.load_state_dict(torch.load(\"./artifacts/model.pth\"))"
   ]
  },
  {
   "cell_type": "code",
   "execution_count": 69,
   "metadata": {},
   "outputs": [],
   "source": [
    "test_i = 15\n",
    "params[\"test_image\"] = test_i\n",
    "\n",
    "testimage = train_data[test_i]\n",
    "test_labels = labels[test_i]\n",
    "\n",
    "chunked_data = chunk_image(merge_dims(testimage))\n",
    "chunked_labels = chunk_image(test_labels, label=True)\n",
    "                        \n",
    "testset = list(zip(chunked_data, chunked_labels))\n",
    "\n",
    "testloader = DataLoader(testset, batch_size = batch_size, shuffle = False)"
   ]
  },
  {
   "cell_type": "code",
   "execution_count": 70,
   "metadata": {},
   "outputs": [
    {
     "data": {
      "text/plain": [
       "(1060, 778)"
      ]
     },
     "execution_count": 70,
     "metadata": {},
     "output_type": "execute_result"
    }
   ],
   "source": [
    "merged_image = merge_dims(train_data[test_i])\n",
    "pred_shape = (merged_image.shape[1] - 2, merged_image.shape[2] - 2)\n",
    "pred_shape"
   ]
  },
  {
   "cell_type": "code",
   "execution_count": 71,
   "metadata": {},
   "outputs": [],
   "source": [
    "y_pred = np.array([])\n",
    "y_true = np.array([])\n",
    "\n",
    "model.eval()\n",
    "for batch, ground_truth in testloader:\n",
    "        batch, ground_truth = batch.to(device), ground_truth.to(device)\n",
    "        # forward pass\n",
    "        log_probs = model.forward(batch.float())\n",
    "        probs = torch.exp(log_probs)\n",
    "                \n",
    "        top_p, top_class = probs.topk(1, dim=1)\n",
    "        y_pred = np.append(y_pred, cuda_to_numpy(top_class))\n",
    "        y_true = np.append(y_true, cuda_to_numpy(ground_truth))"
   ]
  },
  {
   "cell_type": "code",
   "execution_count": 72,
   "metadata": {},
   "outputs": [
    {
     "data": {
      "image/png": "[encoded data removed]",
      "text/plain": [
       "<Figure size 432x288 with 1 Axes>"
      ]
     },
     "metadata": {
      "needs_background": "light"
     },
     "output_type": "display_data"
    }
   ],
   "source": [
    "plt.title(\"Predicted Flood Regions for {}\".format(filenames[test_i]))\n",
    "plt.imshow(np.reshape(y_pred, pred_shape))\n",
    "\n",
    "figure_name = \"predicted_image.png\"\n",
    "plt.savefig(\"./artifacts/\" + figure_name)"
   ]
  },
  {
   "cell_type": "code",
   "execution_count": 73,
   "metadata": {},
   "outputs": [
    {
     "data": {
      "text/plain": [
       "<matplotlib.image.AxesImage at 0x192735bf358>"
      ]
     },
     "execution_count": 73,
     "metadata": {},
     "output_type": "execute_result"
    },
    {
     "data": {
      "image/png": "[encoded data removed]",
      "text/plain": [
       "<Figure size 432x288 with 1 Axes>"
      ]
     },
     "metadata": {
      "needs_background": "light"
     },
     "output_type": "display_data"
    }
   ],
   "source": [
    "plt.title(\"Ground truth for {}\".format(filenames[test_i]))\n",
    "plt.imshow(np.reshape(y_true, pred_shape))"
   ]
  },
  {
   "cell_type": "code",
   "execution_count": 74,
   "metadata": {},
   "outputs": [
    {
     "data": {
      "text/plain": [
       "0.8978330988989669"
      ]
     },
     "execution_count": 74,
     "metadata": {},
     "output_type": "execute_result"
    }
   ],
   "source": [
    "test_accuracy = accuracy_score(y_true, y_pred)\n",
    "test_accuracy"
   ]
  },
  {
   "cell_type": "code",
   "execution_count": null,
   "metadata": {},
   "outputs": [],
   "source": []
  },
  {
   "cell_type": "markdown",
   "metadata": {},
   "source": [
    "# 9. Wrap up MlFlow Run"
   ]
  },
  {
   "cell_type": "code",
   "execution_count": null,
   "metadata": {},
   "outputs": [],
   "source": [
    "for name, val in params.items():\n",
    "    mlflow.log_param(name, val)\n",
    "\n",
    "for name, val in metrics.items():\n",
    "    mlflow.log_metric(name, val)\n",
    "    \n",
    "artifact_path = \"./artifacts/\"\n",
    "for name in artifacts:\n",
    "    mlflow.log_artifact(artifact_path + name)\n",
    "\n",
    "mlflow.end_run()"
   ]
  }
 ],
 "metadata": {
  "kernelspec": {
   "display_name": "Python 3",
   "language": "python",
   "name": "python3"
  },
  "language_info": {
   "codemirror_mode": {
    "name": "ipython",
    "version": 3
   },
   "file_extension": ".py",
   "mimetype": "text/x-python",
   "name": "python",
   "nbconvert_exporter": "python",
   "pygments_lexer": "ipython3",
   "version": "3.7.1"
  }
 },
 "nbformat": 4,
 "nbformat_minor": 2
}
